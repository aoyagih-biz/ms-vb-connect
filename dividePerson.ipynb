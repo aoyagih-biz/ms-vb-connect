{
 "cells": [
  {
   "cell_type": "code",
   "execution_count": 11,
   "metadata": {},
   "outputs": [
    {
     "name": "stdout",
     "output_type": "stream",
     "text": [
      "[nan '[2]' '[8]']\n",
      "['[2]' '[8]']\n"
     ]
    }
   ],
   "source": [
    "# tsvに複数人のPerson indexが含まれる場合、このプログラムを先に実行する。\n",
    "import pandas as pd\n",
    "import os\n",
    "\n",
    "# tsvファイルの読み込み\n",
    "multi_persons_tsv_name = 'FullAuto_touch_result__of__4m_45_1___20240510-130005.tsv.txt'\n",
    "multi_persons_tsv_path = './data/input/' + multi_persons_tsv_name\n",
    "df = pd.read_csv(multi_persons_tsv_path, delimiter='\\t')\n",
    "\n",
    "# Person indexの一覧を作成\n",
    "person_indices = df['Person index'].unique()\n",
    "# nanを削除\n",
    "person_indices_notNull = person_indices[pd.notnull(person_indices)]\n",
    "\n",
    "print(person_indices)\n",
    "print(person_indices_notNull)\n",
    "\n",
    "# Person indexごとにフィルタリングして新たなtsvファイルに出力\n",
    "for pi in person_indices_notNull:\n",
    "    df_filtered = df[df['Person index'] == pi]\n",
    "    df_filtered.to_csv('./data/input/individual/' + multi_persons_tsv_name.split('.')[0] + f'_{pi}.tsv.txt', sep='\\t', index=False)\n"
   ]
  }
 ],
 "metadata": {
  "kernelspec": {
   "display_name": "Python 3",
   "language": "python",
   "name": "python3"
  },
  "language_info": {
   "codemirror_mode": {
    "name": "ipython",
    "version": 3
   },
   "file_extension": ".py",
   "mimetype": "text/x-python",
   "name": "python",
   "nbconvert_exporter": "python",
   "pygments_lexer": "ipython3",
   "version": "3.10.0"
  }
 },
 "nbformat": 4,
 "nbformat_minor": 2
}
